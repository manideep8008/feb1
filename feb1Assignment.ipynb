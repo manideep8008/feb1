{
 "cells": [
  {
   "cell_type": "markdown",
   "id": "c8fba62e",
   "metadata": {},
   "source": [
    "Ans1:\n",
    "\n",
    "Tuples are represented by writing inside the parenthesis separated by commas.\n",
    "tuples are immutable i.e, they are list that cannot be changed "
   ]
  },
  {
   "cell_type": "markdown",
   "id": "b0cff25e",
   "metadata": {},
   "source": [
    "Ans2:\n",
    "\n",
    "The two methods in tuples are count and index.\n",
    "x=(1,2,3,4)\n",
    "x.count(1) 1 return the no of times a value occurs\n",
    "x.index(1) 0 return the index of the value \n",
    "Tuples are immutable,we cannot change their contents after they are created. The length of tuples is also fixed\n"
   ]
  },
  {
   "cell_type": "markdown",
   "id": "bab0a683",
   "metadata": {},
   "source": [
    "Ans3:\n",
    "\n",
    "The set datatypes don't allow duplicates "
   ]
  },
  {
   "cell_type": "code",
   "execution_count": 8,
   "id": "ba6afa80",
   "metadata": {},
   "outputs": [
    {
     "data": {
      "text/plain": [
       "{1, 2, 3, 4}"
      ]
     },
     "execution_count": 8,
     "metadata": {},
     "output_type": "execute_result"
    }
   ],
   "source": [
    "List = [1, 1, 1, 2, 1, 3, 1, 4, 2, 1, 2, 2, 2, 3, 2, 4, 3, 1, 3, 2, 3, 3, 3, 4, 4, 1, 4, 2, 4, 3, 4, 4]\n",
    "set(List)"
   ]
  },
  {
   "cell_type": "markdown",
   "id": "52398e51",
   "metadata": {},
   "source": [
    "Ans4:\n",
    "union return the union of two sets\n",
    "update updates the set permanently\n"
   ]
  },
  {
   "cell_type": "code",
   "execution_count": 37,
   "id": "5f7492e1",
   "metadata": {},
   "outputs": [],
   "source": [
    "A={1,2,3}\n",
    "B={1,5,6}\n"
   ]
  },
  {
   "cell_type": "code",
   "execution_count": 39,
   "id": "c40e265f",
   "metadata": {},
   "outputs": [
    {
     "data": {
      "text/plain": [
       "{1, 2, 3, 5, 6}"
      ]
     },
     "execution_count": 39,
     "metadata": {},
     "output_type": "execute_result"
    }
   ],
   "source": [
    "A.union(B)\n"
   ]
  },
  {
   "cell_type": "code",
   "execution_count": 40,
   "id": "3812a223",
   "metadata": {},
   "outputs": [
    {
     "data": {
      "text/plain": [
       "{1, 2, 3}"
      ]
     },
     "execution_count": 40,
     "metadata": {},
     "output_type": "execute_result"
    }
   ],
   "source": [
    "A"
   ]
  },
  {
   "cell_type": "code",
   "execution_count": 42,
   "id": "8f781929",
   "metadata": {},
   "outputs": [
    {
     "data": {
      "text/plain": [
       "{1, 2, 3, 5, 6}"
      ]
     },
     "execution_count": 42,
     "metadata": {},
     "output_type": "execute_result"
    }
   ],
   "source": [
    "A.update(A.union(B))\n",
    "A"
   ]
  },
  {
   "cell_type": "markdown",
   "id": "bb3aae18",
   "metadata": {},
   "source": [
    "Ans5:\n",
    "\n",
    "The dictionary is an unordered collection that contains key:value pairs separated by commas inside curly brackets. Dictionaries are optimized to retrieve values when the key is known.\n"
   ]
  },
  {
   "cell_type": "code",
   "execution_count": 44,
   "id": "7b3288a3",
   "metadata": {},
   "outputs": [
    {
     "data": {
      "text/plain": [
       "{'keys1': 'value1', 'key2': 'value2', 'key3': 'value3'}"
      ]
     },
     "execution_count": 44,
     "metadata": {},
     "output_type": "execute_result"
    }
   ],
   "source": [
    "x={'keys1':'value1','key2':'value2','key3':'value3'}\n",
    "x"
   ]
  },
  {
   "cell_type": "markdown",
   "id": "ad91ae36",
   "metadata": {},
   "source": [
    "Ans6:\n",
    "   \n",
    "   Yes we can create nested dictionary \n",
    "    "
   ]
  },
  {
   "cell_type": "code",
   "execution_count": 45,
   "id": "ca63be99",
   "metadata": {
    "scrolled": true
   },
   "outputs": [
    {
     "data": {
      "text/plain": [
       "{'keys': {'name': 'ABC'}}"
      ]
     },
     "execution_count": 45,
     "metadata": {},
     "output_type": "execute_result"
    }
   ],
   "source": [
    "x={'keys':{\"name\":\"ABC\"}}\n",
    "x"
   ]
  },
  {
   "cell_type": "markdown",
   "id": "6c417ed5",
   "metadata": {},
   "source": [
    "Ans7:"
   ]
  },
  {
   "cell_type": "code",
   "execution_count": 63,
   "id": "98a1313a",
   "metadata": {},
   "outputs": [
    {
     "data": {
      "text/plain": [
       "{'language': 'Python',\n",
       " 'course': 'Data Science Masters',\n",
       " 'topics': ['Python', 'Machine Learning', 'Deep Learning']}"
      ]
     },
     "execution_count": 63,
     "metadata": {},
     "output_type": "execute_result"
    }
   ],
   "source": [
    "dict1={'language' : 'Python', 'course': 'Data Science Masters'}\n",
    "dict1.setdefault('topics',['Python','Machine Learning','Deep Learning'])\n",
    "dict1"
   ]
  },
  {
   "cell_type": "markdown",
   "id": "3d772270",
   "metadata": {},
   "source": [
    "Ans8:\n",
    "\n",
    "The main view objects of dictionary in python are keys, values and items"
   ]
  },
  {
   "cell_type": "code",
   "execution_count": 53,
   "id": "d67ac57e",
   "metadata": {
    "scrolled": true
   },
   "outputs": [
    {
     "data": {
      "text/plain": [
       "{'Sport': 'Cricket',\n",
       " 'Teams': ['India',\n",
       "  'Australia',\n",
       "  'England',\n",
       "  'South Africa',\n",
       "  'Sri Lanka',\n",
       "  'New Zealand']}"
      ]
     },
     "execution_count": 53,
     "metadata": {},
     "output_type": "execute_result"
    }
   ],
   "source": [
    "dict1 = {'Sport': 'Cricket' , 'Teams': ['India', 'Australia', 'England', 'South Africa', 'Sri Lanka', 'New Zealand']}\n",
    "dict1"
   ]
  },
  {
   "cell_type": "code",
   "execution_count": 54,
   "id": "9af0991b",
   "metadata": {},
   "outputs": [
    {
     "data": {
      "text/plain": [
       "dict_keys(['Sport', 'Teams'])"
      ]
     },
     "execution_count": 54,
     "metadata": {},
     "output_type": "execute_result"
    }
   ],
   "source": [
    "dict1.keys()"
   ]
  },
  {
   "cell_type": "code",
   "execution_count": 55,
   "id": "f7f62436",
   "metadata": {},
   "outputs": [
    {
     "data": {
      "text/plain": [
       "dict_values(['Cricket', ['India', 'Australia', 'England', 'South Africa', 'Sri Lanka', 'New Zealand']])"
      ]
     },
     "execution_count": 55,
     "metadata": {},
     "output_type": "execute_result"
    }
   ],
   "source": [
    "dict1.values()"
   ]
  },
  {
   "cell_type": "code",
   "execution_count": 56,
   "id": "352486a7",
   "metadata": {},
   "outputs": [
    {
     "data": {
      "text/plain": [
       "dict_items([('Sport', 'Cricket'), ('Teams', ['India', 'Australia', 'England', 'South Africa', 'Sri Lanka', 'New Zealand'])])"
      ]
     },
     "execution_count": 56,
     "metadata": {},
     "output_type": "execute_result"
    }
   ],
   "source": [
    "dict1.items()"
   ]
  }
 ],
 "metadata": {
  "kernelspec": {
   "display_name": "Python 3 (ipykernel)",
   "language": "python",
   "name": "python3"
  },
  "language_info": {
   "codemirror_mode": {
    "name": "ipython",
    "version": 3
   },
   "file_extension": ".py",
   "mimetype": "text/x-python",
   "name": "python",
   "nbconvert_exporter": "python",
   "pygments_lexer": "ipython3",
   "version": "3.9.13"
  }
 },
 "nbformat": 4,
 "nbformat_minor": 5
}
